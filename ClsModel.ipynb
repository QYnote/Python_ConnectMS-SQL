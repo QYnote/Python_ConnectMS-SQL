{
 "cells": [
  {
   "cell_type": "code",
   "execution_count": 1,
   "metadata": {},
   "outputs": [],
   "source": [
    "import tensorflow as tf\n",
    "import pandas as pd\n",
    "import numpy as np\n",
    "#pip install numpy\n",
    "from sklearn import utils\n",
    "#데이터 셔플용\n",
    "\n",
    "import datetime"
   ]
  },
  {
   "cell_type": "code",
   "execution_count": 4,
   "metadata": {},
   "outputs": [],
   "source": [
    "#모델 생성\n",
    "def CreateModel(Inputdata) :\n",
    "    Input = tf.keras.layers.Input(shape=Inputdata.shape[1], name=\"Input\")\n",
    "    #Flatten = tf.keras.layers.Flatten(input_shape=int(trainLearningData.shape[0]), name=\"Flatten\")\n",
    "    Dense1 = tf.keras.layers.Dense(64,  activation='relu', name=\"Dense1\")(Input)\n",
    "    Dense2 = tf.keras.layers.Dense(256, activation='relu', name=\"Dense2\")(Dense1)\n",
    "    Dense3 = tf.keras.layers.Dense(64,  activation='relu', name=\"Dense3\")(Dense2)\n",
    "    Dense4 = tf.keras.layers.Dense(16,  activation='relu', name=\"Dense4\")(Dense3)\n",
    "    Output = tf.keras.layers.Dense(1,   activation='softmax', name=\"Output\")(Dense4)\n",
    "\n",
    "    model = tf.keras.Model(inputs=Input, outputs=Output)\n",
    "\n",
    "    return model"
   ]
  },
  {
   "cell_type": "code",
   "execution_count": null,
   "metadata": {},
   "outputs": [],
   "source": [
    "#모델 학습\n",
    "def TrainModel(model, trainLearningData, trainResultData, testLearningData, testResultData) :\n",
    "    model.compile(loss='categorical_crossentropy',\n",
    "                  optimizer='adam',\n",
    "                  metrics='accuracy'\n",
    "                  run_eagerly=True)\n",
    "    model.fit(trainLearningData, trainResultData, epochs=3, validation_data=(testLearningData, testResultData))"
   ]
  },
  {
   "cell_type": "code",
   "execution_count": null,
   "metadata": {},
   "outputs": [],
   "source": [
    "#데이터 전처리\n",
    "def PreTrainData(table, resultColName, trainRate) :\n",
    "    #데이터 형변환\n",
    "    for rows in table :\n",
    "         for colFieldName in rows :\n",
    "             if type(rows[colFieldName]) == datetime.datetime :\n",
    "                rows[colFieldName] = rows[colFieldName].strftime('%Y%m%d%H%M')\n",
    "             elif rows[colFieldName] == 'Up':\n",
    "                 rows[colFieldName] = 1\n",
    "             elif rows[colFieldName] == 'Down' : \n",
    "                 rows[colFieldName] = 2\n",
    "    \n",
    "    data = pd.DataFrame(table)\n",
    "    data = data.convert_dtypes()\n",
    "    \n",
    "    #학습데이터, 테스트 데이터 구분\n",
    "    data = utils.shuffle(data)\n",
    "\n",
    "    trainSize = int(data.shape[0] * trainRate)\n",
    "\n",
    "    trainData = data.iloc[:trainSize, :]\n",
    "    trainLearningData = trainData.loc[:, trainData.columns != resultColName]\n",
    "    trainResultData = trainData.loc[:, resultColName]\n",
    "\n",
    "    testData = data.iloc[trainSize:, :]\n",
    "    testLearningData = testData.loc[:, testData.columns != resultColName]\n",
    "    testResultData = testData.loc[:, resultColName]\n",
    "\n",
    "    #학습데이터 Numpy Array 형식 변환\n",
    "    trainLearningData = np.asarray(trainLearningData).astype(np.float32)\n",
    "    trainResultData = np.asarray(trainResultData).astype(np.float32)\n",
    "    testLearningData = np.asarray(testLearningData).astype(np.float32)\n",
    "    testResultData = np.asarray(testResultData).astype(np.float32)\n",
    "    \n",
    "    return trainLearningData, trainResultData, testLearningData, testResultData"
   ]
  },
  {
   "cell_type": "code",
   "execution_count": null,
   "metadata": {},
   "outputs": [],
   "source": [
    "testmodel = MakeModel()\n",
    "testmodel.summary()"
   ]
  },
  {
   "cell_type": "code",
   "execution_count": null,
   "metadata": {},
   "outputs": [],
   "source": []
  }
 ],
 "metadata": {
  "interpreter": {
   "hash": "cbb2cc80dbd99fd2d77582c64e9df430731e3cdd4c725c7d202b3a7760238abd"
  },
  "kernelspec": {
   "display_name": "Python 3.9.7 ('DeepLearning')",
   "language": "python",
   "name": "python3"
  },
  "language_info": {
   "codemirror_mode": {
    "name": "ipython",
    "version": 3
   },
   "file_extension": ".py",
   "mimetype": "text/x-python",
   "name": "python",
   "nbconvert_exporter": "python",
   "pygments_lexer": "ipython3",
   "version": "3.9.7"
  },
  "orig_nbformat": 4
 },
 "nbformat": 4,
 "nbformat_minor": 2
}
