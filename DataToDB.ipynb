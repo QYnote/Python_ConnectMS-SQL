{
 "cells": [
  {
   "cell_type": "code",
   "execution_count": 1,
   "metadata": {},
   "outputs": [],
   "source": [
    "#DB\n",
    "import pymssql as sql"
   ]
  },
  {
   "cell_type": "code",
   "execution_count": 4,
   "metadata": {},
   "outputs": [],
   "source": [
    "server = '192.168.0.76:2433'#     //192.168.0.76      'LAPTOP-MNSDJV9B\\SQLEXPRESS'\n",
    "user = 'sample'\n",
    "password = 'qwe123!@#'\n",
    "db = 'TEST'\n",
    "\n",
    "conn = sql.connect(server=server, user=user, password=password, database=db, charset='utf8')"
   ]
  },
  {
   "cell_type": "code",
   "execution_count": 5,
   "metadata": {},
   "outputs": [],
   "source": [
    "def SelectQuery() : \n",
    "    cursor = conn.cursor(as_dict=True)\n",
    "\n",
    "    cursor.execute(query)\n",
    "\n",
    "    cursor.close()\n",
    "\n",
    "\n",
    "def InsertQuery(query) :\n",
    "    cursor = conn.cursor()\n",
    "\n",
    "    cursor.execute(query)\n",
    "\n",
    "    cursor.close()\n",
    "    conn.commit()\n",
    "\n",
    "def ConnectionClose() : \n",
    "    conn.close()"
   ]
  },
  {
   "cell_type": "code",
   "execution_count": 6,
   "metadata": {},
   "outputs": [],
   "source": [
    "    "
   ]
  }
 ],
 "metadata": {
  "interpreter": {
   "hash": "cbb2cc80dbd99fd2d77582c64e9df430731e3cdd4c725c7d202b3a7760238abd"
  },
  "kernelspec": {
   "display_name": "Python 3.9.7 64-bit ('DeepLearning': conda)",
   "language": "python",
   "name": "python3"
  },
  "language_info": {
   "codemirror_mode": {
    "name": "ipython",
    "version": 3
   },
   "file_extension": ".py",
   "mimetype": "text/x-python",
   "name": "python",
   "nbconvert_exporter": "python",
   "pygments_lexer": "ipython3",
   "version": "3.9.7"
  },
  "orig_nbformat": 4
 },
 "nbformat": 4,
 "nbformat_minor": 2
}
