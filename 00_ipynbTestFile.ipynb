{
 "cells": [
  {
   "cell_type": "code",
   "execution_count": 1,
   "metadata": {},
   "outputs": [],
   "source": [
    "import clsDatabase as db\n",
    "import ClsModel as mo\n",
    "#pip install pandas 필요\n",
    "import numpy as np\n",
    "#pip install numpy\n",
    "\n",
    "#테스트용\n",
    "import random\n",
    "\n",
    "#delete 필요"
   ]
  },
  {
   "cell_type": "code",
   "execution_count": 2,
   "metadata": {},
   "outputs": [],
   "source": [
    "#Database에서 자료 가져오기\n",
    "query = 'SELECT candle_date_time_utc, candle_date_time_kst, opening_price, high_price, low_price, '\n",
    "query +='       trade_price, timestamp, candle_acc_trade_price, candle_acc_trade_volume, unit,'\n",
    "query +='       gap, [check] '\n",
    "query +='  FROM TradingTest'\n",
    "\n",
    "#table type : List\n",
    "table = db.SelectQuery(query)\n",
    "\n",
    "db.ConnectionClose()"
   ]
  },
  {
   "cell_type": "code",
   "execution_count": 3,
   "metadata": {},
   "outputs": [
    {
     "name": "stdout",
     "output_type": "stream",
     "text": [
      "WARNING:tensorflow:Compiled the loaded model, but the compiled metrics have yet to be built. `model.compile_metrics` will be empty until you train or evaluate the model.\n"
     ]
    },
    {
     "name": "stderr",
     "output_type": "stream",
     "text": [
      "WARNING:absl:Function `_wrapped_model` contains input name(s) Input with unsupported characters which will be renamed to input in the SavedModel.\n"
     ]
    },
    {
     "name": "stdout",
     "output_type": "stream",
     "text": [
      "INFO:tensorflow:Assets written to: Model_2022-02-14\\assets\n"
     ]
    },
    {
     "name": "stderr",
     "output_type": "stream",
     "text": [
      "INFO:tensorflow:Assets written to: Model_2022-02-14\\assets\n"
     ]
    },
    {
     "name": "stdout",
     "output_type": "stream",
     "text": [
      "Epoch 1/3\n",
      "5/5 [==============================] - 1s 50ms/step - loss: nan - accuracy: 0.0000e+00 - val_loss: nan - val_accuracy: 0.0250\n",
      "Epoch 2/3\n",
      "5/5 [==============================] - 0s 6ms/step - loss: nan - accuracy: 0.0000e+00 - val_loss: nan - val_accuracy: 0.0250\n",
      "Epoch 3/3\n",
      "5/5 [==============================] - 0s 8ms/step - loss: nan - accuracy: 0.0000e+00 - val_loss: nan - val_accuracy: 0.0250\n",
      "Model: \"model\"\n",
      "_________________________________________________________________\n",
      " Layer (type)                Output Shape              Param #   \n",
      "=================================================================\n",
      " Input (InputLayer)          [(None, 11)]              0         \n",
      "                                                                 \n",
      " Dense1 (Dense)              (None, 64)                768       \n",
      "                                                                 \n",
      " Dense2 (Dense)              (None, 256)               16640     \n",
      "                                                                 \n",
      " Dense3 (Dense)              (None, 64)                16448     \n",
      "                                                                 \n",
      " Dense4 (Dense)              (None, 16)                1040      \n",
      "                                                                 \n",
      " Output (Dense)              (None, 1)                 17        \n",
      "                                                                 \n",
      "=================================================================\n",
      "Total params: 34,913\n",
      "Trainable params: 34,913\n",
      "Non-trainable params: 0\n",
      "_________________________________________________________________\n"
     ]
    }
   ],
   "source": [
    "trainRate = 0.8 #학습용 데이터 80%, 테스트용 20%\n",
    "resultColName = 'check'\n",
    "\n",
    "trainLearningData, trainResultData, testLearningData, testResultData = mo.PreTrainData(table, 'check', 0.8)\n",
    "model = mo.CreateModel(trainLearningData)\n",
    "model = mo.TrainModel(model, trainLearningData, trainResultData, testLearningData, testResultData)\n",
    "\n",
    "model.summary()"
   ]
  },
  {
   "cell_type": "code",
   "execution_count": null,
   "metadata": {},
   "outputs": [],
   "source": []
  },
  {
   "cell_type": "code",
   "execution_count": 4,
   "metadata": {},
   "outputs": [
    {
     "name": "stdout",
     "output_type": "stream",
     "text": [
      "(160, 11)\n",
      "(1, 11)\n",
      "[[ 2.0211212e+11  2.0211212e+11  6.1731000e+07  6.1732000e+07\n",
      "   6.1306000e+07  6.1425000e+07  1.6392699e+12  5.6324972e+09\n",
      "   9.1598213e+01  1.5000000e+01 -3.0700000e+05]]\n",
      "[[nan]]\n"
     ]
    }
   ],
   "source": [
    "print(trainLearningData.shape)\n",
    "randRowIdx = random.randrange(0, testLearningData.shape[0])\n",
    "\n",
    "#InputData 전처리\n",
    "testInputAry = testLearningData[randRowIdx:randRowIdx+1, :]\n",
    "testInputData = np.asarray(testInputAry).astype(np.float32)\n",
    "\n",
    "print(testInputData.shape)\n",
    "print(testInputData)\n",
    "\n",
    "result = model.predict(testInputData)\n",
    "maxcount = 0\n",
    "# while result == 1 :\n",
    "#     result = model.predict(testInputData)\n",
    "#     maxcount = maxcount + 1\n",
    "#     if maxcount > 100: break\n",
    "print(result)"
   ]
  },
  {
   "cell_type": "code",
   "execution_count": 5,
   "metadata": {},
   "outputs": [],
   "source": [
    "# del query\n",
    "# del value, rows, table\n",
    "# del trainRate, resultFieldname, data, trainSize, trainData, testData\n",
    "# del Input, Dense1, Dense2, Dense3, Dense4, Output"
   ]
  }
 ],
 "metadata": {
  "interpreter": {
   "hash": "cbb2cc80dbd99fd2d77582c64e9df430731e3cdd4c725c7d202b3a7760238abd"
  },
  "kernelspec": {
   "display_name": "Python 3.9.7 64-bit ('DeepLearning': conda)",
   "language": "python",
   "name": "python3"
  },
  "language_info": {
   "codemirror_mode": {
    "name": "ipython",
    "version": 3
   },
   "file_extension": ".py",
   "mimetype": "text/x-python",
   "name": "python",
   "nbconvert_exporter": "python",
   "pygments_lexer": "ipython3",
   "version": "3.9.7"
  },
  "orig_nbformat": 4
 },
 "nbformat": 4,
 "nbformat_minor": 2
}
