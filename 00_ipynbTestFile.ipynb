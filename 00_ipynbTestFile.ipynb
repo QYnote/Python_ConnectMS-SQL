{
 "cells": [
  {
   "cell_type": "code",
   "execution_count": 1,
   "metadata": {},
   "outputs": [],
   "source": [
    "import clsDatabase as db\n",
    "import pandas as pd\n",
    "#pip install pandas 필요\n",
    "import datetime\n",
    "from sklearn import utils\n",
    "#pip install scikit-learn, scipy 필요\n",
    "import tensorflow as tf\n",
    "import numpy as np\n",
    "#pip install numpy\n"
   ]
  },
  {
   "cell_type": "code",
   "execution_count": 2,
   "metadata": {},
   "outputs": [],
   "source": [
    "#Database에서 자료 가져오기\n",
    "query = 'SELECT candle_date_time_utc, candle_date_time_kst, opening_price, high_price, low_price, '\n",
    "query += ' trade_price, timestamp, candle_acc_trade_price, candle_acc_trade_volume, unit,'\n",
    "query += ' gap, [check] '\n",
    "query += ' FROM TradingTest'\n",
    "\n",
    "table = db.SelectQuery(query)\n",
    "\n",
    "db.ConnectionClose()"
   ]
  },
  {
   "cell_type": "code",
   "execution_count": 3,
   "metadata": {},
   "outputs": [
    {
     "data": {
      "text/plain": [
       "candle_date_time_utc        string\n",
       "candle_date_time_kst        string\n",
       "opening_price                Int64\n",
       "high_price                   Int64\n",
       "low_price                    Int64\n",
       "trade_price                  Int64\n",
       "timestamp                    Int64\n",
       "candle_acc_trade_price     Float64\n",
       "candle_acc_trade_volume    Float64\n",
       "unit                         Int64\n",
       "gap                          Int64\n",
       "check                       object\n",
       "dtype: object"
      ]
     },
     "execution_count": 3,
     "metadata": {},
     "output_type": "execute_result"
    }
   ],
   "source": [
    "#데이터 형변환\n",
    "for rows in table :\n",
    "     for colFieldName in rows :\n",
    "         if type(rows[colFieldName]) == datetime.datetime :\n",
    "            rows[colFieldName] = rows[colFieldName].strftime('%Y%m%d%H%M')\n",
    "         elif rows[colFieldName] == 'Up':\n",
    "             rows[colFieldName] = 1\n",
    "         elif rows[colFieldName] == 'Down' : \n",
    "             rows[colFieldName] = 0\n",
    "\n",
    "\n",
    "data = pd.DataFrame(table)\n",
    "data = data.convert_dtypes()\n",
    "\n",
    "data.dtypes"
   ]
  },
  {
   "cell_type": "code",
   "execution_count": 4,
   "metadata": {},
   "outputs": [],
   "source": [
    "trainRate = 0.8 #학습용 데이터 80%, 테스트용 20%\n",
    "resultColName = 'check'\n",
    "data = utils.shuffle(data)\n",
    "\n",
    "trainSize = int(data.shape[0] * trainRate)\n",
    "\n",
    "trainData = data.iloc[:trainSize, :]\n",
    "trainLearningData = trainData.loc[:, trainData.columns != resultColName]\n",
    "trainResultData = trainData.loc[:, resultColName]\n",
    "\n",
    "testData = data.iloc[trainSize:, :]\n",
    "testLearningData = testData.loc[:, testData.columns != resultColName]\n",
    "testResultData = testData.loc[:, resultColName]"
   ]
  },
  {
   "cell_type": "code",
   "execution_count": 5,
   "metadata": {},
   "outputs": [],
   "source": [
    "trainLearningData = np.asarray(trainLearningData).astype(np.float32)\n",
    "trainResultData = np.asarray(trainResultData).astype(np.float32)\n",
    "testLearningData = np.asarray(testLearningData).astype(np.float32)\n",
    "testResultData = np.asarray(testResultData).astype(np.float32)\n"
   ]
  },
  {
   "cell_type": "code",
   "execution_count": 6,
   "metadata": {},
   "outputs": [
    {
     "name": "stdout",
     "output_type": "stream",
     "text": [
      "Model: \"model\"\n",
      "_________________________________________________________________\n",
      " Layer (type)                Output Shape              Param #   \n",
      "=================================================================\n",
      " Input (InputLayer)          [(None, 160)]             0         \n",
      "                                                                 \n",
      " Dense1 (Dense)              (None, 64)                10304     \n",
      "                                                                 \n",
      " Dense2 (Dense)              (None, 256)               16640     \n",
      "                                                                 \n",
      " Dense3 (Dense)              (None, 64)                16448     \n",
      "                                                                 \n",
      " Dense4 (Dense)              (None, 16)                1040      \n",
      "                                                                 \n",
      " Output (Dense)              (None, 1)                 17        \n",
      "                                                                 \n",
      "=================================================================\n",
      "Total params: 44,449\n",
      "Trainable params: 44,449\n",
      "Non-trainable params: 0\n",
      "_________________________________________________________________\n"
     ]
    }
   ],
   "source": [
    "Input = tf.keras.layers.Input(shape=trainLearningData.shape[0], name=\"Input\")\n",
    "#Flatten = tf.keras.layers.Flatten(input_shape=int(trainLearningData.shape[0]), name=\"Flatten\")\n",
    "Dense1 = tf.keras.layers.Dense(64,  activation='relu', name=\"Dense1\")(Input)\n",
    "Dense2 = tf.keras.layers.Dense(256, activation='relu', name=\"Dense2\")(Dense1)\n",
    "Dense3 = tf.keras.layers.Dense(64,  activation='relu', name=\"Dense3\")(Dense2)\n",
    "Dense4 = tf.keras.layers.Dense(16,  activation='relu', name=\"Dense4\")(Dense3)\n",
    "Output = tf.keras.layers.Dense(1,   activation='softmax', name=\"Output\")(Dense4)\n",
    "\n",
    "model = tf.keras.Model(inputs=Input, outputs=Output)\n",
    "\n",
    "model.summary()"
   ]
  },
  {
   "cell_type": "code",
   "execution_count": 7,
   "metadata": {},
   "outputs": [
    {
     "name": "stdout",
     "output_type": "stream",
     "text": [
      "Epoch 1/3\n"
     ]
    },
    {
     "ename": "ValueError",
     "evalue": "in user code:\n\n    File \"C:\\Users\\smtvision\\anaconda3\\envs\\DeepLearning\\lib\\site-packages\\keras\\engine\\training.py\", line 878, in train_function  *\n        return step_function(self, iterator)\n    File \"C:\\Users\\smtvision\\anaconda3\\envs\\DeepLearning\\lib\\site-packages\\keras\\engine\\training.py\", line 867, in step_function  **\n        outputs = model.distribute_strategy.run(run_step, args=(data,))\n    File \"C:\\Users\\smtvision\\anaconda3\\envs\\DeepLearning\\lib\\site-packages\\keras\\engine\\training.py\", line 860, in run_step  **\n        outputs = model.train_step(data)\n    File \"C:\\Users\\smtvision\\anaconda3\\envs\\DeepLearning\\lib\\site-packages\\keras\\engine\\training.py\", line 808, in train_step\n        y_pred = self(x, training=True)\n    File \"C:\\Users\\smtvision\\anaconda3\\envs\\DeepLearning\\lib\\site-packages\\keras\\utils\\traceback_utils.py\", line 67, in error_handler\n        raise e.with_traceback(filtered_tb) from None\n    File \"C:\\Users\\smtvision\\anaconda3\\envs\\DeepLearning\\lib\\site-packages\\keras\\engine\\input_spec.py\", line 263, in assert_input_compatibility\n        raise ValueError(f'Input {input_index} of layer \"{layer_name}\" is '\n\n    ValueError: Input 0 of layer \"model\" is incompatible with the layer: expected shape=(None, 160), found shape=(32, 11)\n",
     "output_type": "error",
     "traceback": [
      "\u001b[1;31m---------------------------------------------------------------------------\u001b[0m",
      "\u001b[1;31mValueError\u001b[0m                                Traceback (most recent call last)",
      "\u001b[1;32mC:\\Users\\SMTVIS~1\\AppData\\Local\\Temp/ipykernel_16136/3796980394.py\u001b[0m in \u001b[0;36m<module>\u001b[1;34m\u001b[0m\n\u001b[0;32m      2\u001b[0m               \u001b[0moptimizer\u001b[0m\u001b[1;33m=\u001b[0m\u001b[1;34m'sgd'\u001b[0m\u001b[1;33m,\u001b[0m\u001b[1;33m\u001b[0m\u001b[1;33m\u001b[0m\u001b[0m\n\u001b[0;32m      3\u001b[0m               metrics='accuracy')\n\u001b[1;32m----> 4\u001b[1;33m \u001b[0mmodel\u001b[0m\u001b[1;33m.\u001b[0m\u001b[0mfit\u001b[0m\u001b[1;33m(\u001b[0m\u001b[0mtrainLearningData\u001b[0m\u001b[1;33m,\u001b[0m \u001b[0mtrainResultData\u001b[0m\u001b[1;33m,\u001b[0m \u001b[0mepochs\u001b[0m\u001b[1;33m=\u001b[0m\u001b[1;36m3\u001b[0m\u001b[1;33m,\u001b[0m \u001b[0mvalidation_data\u001b[0m\u001b[1;33m=\u001b[0m\u001b[1;33m(\u001b[0m\u001b[0mtestLearningData\u001b[0m\u001b[1;33m,\u001b[0m \u001b[0mtestResultData\u001b[0m\u001b[1;33m)\u001b[0m\u001b[1;33m)\u001b[0m\u001b[1;33m\u001b[0m\u001b[1;33m\u001b[0m\u001b[0m\n\u001b[0m",
      "\u001b[1;32m~\\anaconda3\\envs\\DeepLearning\\lib\\site-packages\\keras\\utils\\traceback_utils.py\u001b[0m in \u001b[0;36merror_handler\u001b[1;34m(*args, **kwargs)\u001b[0m\n\u001b[0;32m     65\u001b[0m     \u001b[1;32mexcept\u001b[0m \u001b[0mException\u001b[0m \u001b[1;32mas\u001b[0m \u001b[0me\u001b[0m\u001b[1;33m:\u001b[0m  \u001b[1;31m# pylint: disable=broad-except\u001b[0m\u001b[1;33m\u001b[0m\u001b[1;33m\u001b[0m\u001b[0m\n\u001b[0;32m     66\u001b[0m       \u001b[0mfiltered_tb\u001b[0m \u001b[1;33m=\u001b[0m \u001b[0m_process_traceback_frames\u001b[0m\u001b[1;33m(\u001b[0m\u001b[0me\u001b[0m\u001b[1;33m.\u001b[0m\u001b[0m__traceback__\u001b[0m\u001b[1;33m)\u001b[0m\u001b[1;33m\u001b[0m\u001b[1;33m\u001b[0m\u001b[0m\n\u001b[1;32m---> 67\u001b[1;33m       \u001b[1;32mraise\u001b[0m \u001b[0me\u001b[0m\u001b[1;33m.\u001b[0m\u001b[0mwith_traceback\u001b[0m\u001b[1;33m(\u001b[0m\u001b[0mfiltered_tb\u001b[0m\u001b[1;33m)\u001b[0m \u001b[1;32mfrom\u001b[0m \u001b[1;32mNone\u001b[0m\u001b[1;33m\u001b[0m\u001b[1;33m\u001b[0m\u001b[0m\n\u001b[0m\u001b[0;32m     68\u001b[0m     \u001b[1;32mfinally\u001b[0m\u001b[1;33m:\u001b[0m\u001b[1;33m\u001b[0m\u001b[1;33m\u001b[0m\u001b[0m\n\u001b[0;32m     69\u001b[0m       \u001b[1;32mdel\u001b[0m \u001b[0mfiltered_tb\u001b[0m\u001b[1;33m\u001b[0m\u001b[1;33m\u001b[0m\u001b[0m\n",
      "\u001b[1;32m~\\anaconda3\\envs\\DeepLearning\\lib\\site-packages\\tensorflow\\python\\framework\\func_graph.py\u001b[0m in \u001b[0;36mautograph_handler\u001b[1;34m(*args, **kwargs)\u001b[0m\n\u001b[0;32m   1127\u001b[0m           \u001b[1;32mexcept\u001b[0m \u001b[0mException\u001b[0m \u001b[1;32mas\u001b[0m \u001b[0me\u001b[0m\u001b[1;33m:\u001b[0m  \u001b[1;31m# pylint:disable=broad-except\u001b[0m\u001b[1;33m\u001b[0m\u001b[1;33m\u001b[0m\u001b[0m\n\u001b[0;32m   1128\u001b[0m             \u001b[1;32mif\u001b[0m \u001b[0mhasattr\u001b[0m\u001b[1;33m(\u001b[0m\u001b[0me\u001b[0m\u001b[1;33m,\u001b[0m \u001b[1;34m\"ag_error_metadata\"\u001b[0m\u001b[1;33m)\u001b[0m\u001b[1;33m:\u001b[0m\u001b[1;33m\u001b[0m\u001b[1;33m\u001b[0m\u001b[0m\n\u001b[1;32m-> 1129\u001b[1;33m               \u001b[1;32mraise\u001b[0m \u001b[0me\u001b[0m\u001b[1;33m.\u001b[0m\u001b[0mag_error_metadata\u001b[0m\u001b[1;33m.\u001b[0m\u001b[0mto_exception\u001b[0m\u001b[1;33m(\u001b[0m\u001b[0me\u001b[0m\u001b[1;33m)\u001b[0m\u001b[1;33m\u001b[0m\u001b[1;33m\u001b[0m\u001b[0m\n\u001b[0m\u001b[0;32m   1130\u001b[0m             \u001b[1;32melse\u001b[0m\u001b[1;33m:\u001b[0m\u001b[1;33m\u001b[0m\u001b[1;33m\u001b[0m\u001b[0m\n\u001b[0;32m   1131\u001b[0m               \u001b[1;32mraise\u001b[0m\u001b[1;33m\u001b[0m\u001b[1;33m\u001b[0m\u001b[0m\n",
      "\u001b[1;31mValueError\u001b[0m: in user code:\n\n    File \"C:\\Users\\smtvision\\anaconda3\\envs\\DeepLearning\\lib\\site-packages\\keras\\engine\\training.py\", line 878, in train_function  *\n        return step_function(self, iterator)\n    File \"C:\\Users\\smtvision\\anaconda3\\envs\\DeepLearning\\lib\\site-packages\\keras\\engine\\training.py\", line 867, in step_function  **\n        outputs = model.distribute_strategy.run(run_step, args=(data,))\n    File \"C:\\Users\\smtvision\\anaconda3\\envs\\DeepLearning\\lib\\site-packages\\keras\\engine\\training.py\", line 860, in run_step  **\n        outputs = model.train_step(data)\n    File \"C:\\Users\\smtvision\\anaconda3\\envs\\DeepLearning\\lib\\site-packages\\keras\\engine\\training.py\", line 808, in train_step\n        y_pred = self(x, training=True)\n    File \"C:\\Users\\smtvision\\anaconda3\\envs\\DeepLearning\\lib\\site-packages\\keras\\utils\\traceback_utils.py\", line 67, in error_handler\n        raise e.with_traceback(filtered_tb) from None\n    File \"C:\\Users\\smtvision\\anaconda3\\envs\\DeepLearning\\lib\\site-packages\\keras\\engine\\input_spec.py\", line 263, in assert_input_compatibility\n        raise ValueError(f'Input {input_index} of layer \"{layer_name}\" is '\n\n    ValueError: Input 0 of layer \"model\" is incompatible with the layer: expected shape=(None, 160), found shape=(32, 11)\n"
     ]
    }
   ],
   "source": [
    "model.compile(loss='categorical_crossentropy',\n",
    "              optimizer='sgd',\n",
    "              metrics='accuracy')\n",
    "model.fit(trainLearningData, trainResultData, epochs=3, validation_data=(testLearningData, testResultData))"
   ]
  },
  {
   "cell_type": "code",
   "execution_count": null,
   "metadata": {},
   "outputs": [],
   "source": [
    "# del query\n",
    "# del value, rows, table\n",
    "# del trainRate, resultFieldname, data, trainSize, trainData, testData\n",
    "# del Input, Dense1, Dense2, Dense3, Dense4, Output"
   ]
  }
 ],
 "metadata": {
  "interpreter": {
   "hash": "cbb2cc80dbd99fd2d77582c64e9df430731e3cdd4c725c7d202b3a7760238abd"
  },
  "kernelspec": {
   "display_name": "Python 3.9.7 64-bit ('DeepLearning': conda)",
   "language": "python",
   "name": "python3"
  },
  "language_info": {
   "codemirror_mode": {
    "name": "ipython",
    "version": 3
   },
   "file_extension": ".py",
   "mimetype": "text/x-python",
   "name": "python",
   "nbconvert_exporter": "python",
   "pygments_lexer": "ipython3",
   "version": "3.9.7"
  },
  "orig_nbformat": 4
 },
 "nbformat": 4,
 "nbformat_minor": 2
}
